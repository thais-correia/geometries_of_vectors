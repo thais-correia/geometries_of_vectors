{
  "nbformat": 4,
  "nbformat_minor": 0,
  "metadata": {
    "colab": {
      "provenance": [],
      "authorship_tag": "ABX9TyPThkYcFe4hbAFsi+z/qyIE",
      "include_colab_link": true
    },
    "kernelspec": {
      "name": "python3",
      "display_name": "Python 3"
    },
    "language_info": {
      "name": "python"
    }
  },
  "cells": [
    {
      "cell_type": "markdown",
      "metadata": {
        "id": "view-in-github",
        "colab_type": "text"
      },
      "source": [
        "<a href=\"https://colab.research.google.com/github/thais-correia/geometries_of_vectors/blob/main/Distance_Points.ipynb\" target=\"_parent\"><img src=\"https://colab.research.google.com/assets/colab-badge.svg\" alt=\"Open In Colab\"/></a>"
      ]
    },
    {
      "cell_type": "markdown",
      "source": [
        "# Calcular a distância entre dois lugares.\n",
        "## Calculate the distance between two places.\n",
        "### Calcula la distancia entre dos lugares."
      ],
      "metadata": {
        "id": "cdqxCSfIyAWl"
      }
    },
    {
      "cell_type": "code",
      "execution_count": 1,
      "metadata": {
        "colab": {
          "base_uri": "https://localhost:8080/"
        },
        "id": "HCEBrxFmx7bO",
        "outputId": "42c95913-e30e-4bdc-df0e-432efd083be8"
      },
      "outputs": [
        {
          "output_type": "stream",
          "name": "stdout",
          "text": [
            "Requirement already satisfied: shapely in /usr/local/lib/python3.10/dist-packages (2.0.1)\n",
            "Requirement already satisfied: numpy>=1.14 in /usr/local/lib/python3.10/dist-packages (from shapely) (1.22.4)\n"
          ]
        }
      ],
      "source": [
        "# Instalar a biblioteca \"shapely\".\n",
        "# Install the \"shapely\" library\n",
        "\n",
        "!pip install shapely"
      ]
    },
    {
      "cell_type": "code",
      "source": [
        "# Importar a geometria \"ponto\".\n",
        "# Import the \"point\" geometry.\n",
        "\n",
        "from shapely.geometry import Point"
      ],
      "metadata": {
        "id": "ZNsPF5Le01JC"
      },
      "execution_count": 3,
      "outputs": []
    },
    {
      "cell_type": "code",
      "source": [
        "# Criar os pontos (locais) a partir de suas coordenadas, onde P1 = Parque Ibirapuera e P2 = Universidade de São Paulo (USP).\n",
        "# Create the points (places) from their coordinates where P1 = Ibirapuera Park and P2 = University of São Paulo (USP).\n",
        "\n",
        "p1 = Point(-23.587249027042983, -46.657644333644065)\n",
        "p2 = Point(-23.560153007065544, -46.730696767793034)"
      ],
      "metadata": {
        "id": "9DWrnBCr5bWw"
      },
      "execution_count": 4,
      "outputs": []
    },
    {
      "cell_type": "code",
      "source": [
        "# Calcular a distância.\n",
        "# Calculate the distance.\n",
        "\n",
        "distancia = p1.distance(p2)"
      ],
      "metadata": {
        "id": "5cb0t1Og6gxg"
      },
      "execution_count": 5,
      "outputs": []
    },
    {
      "cell_type": "code",
      "source": [
        "# Mostrar a distância.\n",
        "# Show the distance.\n",
        "\n",
        "print(\"The distance between Ibirapuera Park and USP is %s decimal degrees\"%(round(distancia,3)))"
      ],
      "metadata": {
        "colab": {
          "base_uri": "https://localhost:8080/"
        },
        "id": "MbRZazTX7DA0",
        "outputId": "669734eb-7f3f-4e5f-dfb7-d56c5d306f6e"
      },
      "execution_count": 6,
      "outputs": [
        {
          "output_type": "stream",
          "name": "stdout",
          "text": [
            "The distance between Ibirapuera Park and USP is 0.078 decimal degrees\n"
          ]
        }
      ]
    },
    {
      "cell_type": "markdown",
      "source": [
        "**Obrigada pela atenção!** 🌎"
      ],
      "metadata": {
        "id": "8nsV7jMB8H-B"
      }
    }
  ]
}