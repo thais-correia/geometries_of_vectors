{
  "nbformat": 4,
  "nbformat_minor": 0,
  "metadata": {
    "colab": {
      "provenance": [],
      "authorship_tag": "ABX9TyNegXjH6TgXoiLrhyksq8ux",
      "include_colab_link": true
    },
    "kernelspec": {
      "name": "python3",
      "display_name": "Python 3"
    },
    "language_info": {
      "name": "python"
    }
  },
  "cells": [
    {
      "cell_type": "markdown",
      "metadata": {
        "id": "view-in-github",
        "colab_type": "text"
      },
      "source": [
        "<a href=\"https://colab.research.google.com/github/thais-correia/geometries_of_vectors/blob/main/Length_Line.ipynb\" target=\"_parent\"><img src=\"https://colab.research.google.com/assets/colab-badge.svg\" alt=\"Open In Colab\"/></a>"
      ]
    },
    {
      "cell_type": "markdown",
      "source": [
        "# Calculando o comprimento de uma via\n",
        "## Calculating the length of a street\n",
        "### Calcular la longitud de una calle"
      ],
      "metadata": {
        "id": "wFrdp4qzfAB1"
      }
    },
    {
      "cell_type": "code",
      "execution_count": 1,
      "metadata": {
        "colab": {
          "base_uri": "https://localhost:8080/"
        },
        "id": "VGrjYMu0dKSK",
        "outputId": "cba495ac-1950-4948-8bac-f84ab0406851"
      },
      "outputs": [
        {
          "output_type": "stream",
          "name": "stdout",
          "text": [
            "Requirement already satisfied: shapely in /usr/local/lib/python3.10/dist-packages (2.0.1)\n",
            "Requirement already satisfied: numpy>=1.14 in /usr/local/lib/python3.10/dist-packages (from shapely) (1.22.4)\n"
          ]
        }
      ],
      "source": [
        "# Instalar a biblioteca shapely\n",
        "# Install the shapely library\n",
        "\n",
        "!pip install shapely"
      ]
    },
    {
      "cell_type": "code",
      "source": [
        "# Importar os tipos de geometrias necessárias\n",
        "# Import the required geometry types\n",
        "\n",
        "from shapely.geometry import Point, LineString"
      ],
      "metadata": {
        "id": "cEwvJyvcjvY7"
      },
      "execution_count": 2,
      "outputs": []
    },
    {
      "cell_type": "code",
      "source": [
        "# Criar objetos do tipo Ponto a partir de coordenadas, onde P1 = início da via e P2 = fim da via.\n",
        "# Nesse caso utilizaremos a \"Avenida Paulista, em São Paulo - Brasil\" como exemplo.\n",
        "# Create objects of type Point from coordinates, where P1 = start of street and P2 = end of street.\n",
        "# In this case we will use \"Paulista Avenue\", in São Paulo city - Brazil as an example.\n",
        "\n",
        "p1 = Point(330268.8783226154, 7393946.569023451)\n",
        "p2 = Point(332173.9807673694, 7392306.806849632)"
      ],
      "metadata": {
        "id": "RQIVcSF8kPt8"
      },
      "execution_count": 20,
      "outputs": []
    },
    {
      "cell_type": "code",
      "source": [
        "# Confirmando o contéudo dos pontos\n",
        "# Confirming the content of the points\n",
        "\n",
        "print(p1)\n",
        "print(p2)"
      ],
      "metadata": {
        "colab": {
          "base_uri": "https://localhost:8080/"
        },
        "id": "3XoauNJ6lkpw",
        "outputId": "526f0389-4470-47c9-8e35-c73443fd5e73"
      },
      "execution_count": 21,
      "outputs": [
        {
          "output_type": "stream",
          "name": "stdout",
          "text": [
            "POINT (330268.8783226154 7393946.569023451)\n",
            "POINT (332173.9807673694 7392306.806849632)\n"
          ]
        }
      ]
    },
    {
      "cell_type": "code",
      "source": [
        "# Criar uma linha a partir dos pontos criados anteriormente\n",
        "# Create a line from the previously created points\n",
        "\n",
        "linha = LineString([p1,p2])"
      ],
      "metadata": {
        "id": "oL9_O5JmBY7U"
      },
      "execution_count": 22,
      "outputs": []
    },
    {
      "cell_type": "code",
      "source": [
        "# Verificar conteúdo da linha\n",
        "# Check line content\n",
        "\n",
        "print(linha)"
      ],
      "metadata": {
        "colab": {
          "base_uri": "https://localhost:8080/"
        },
        "id": "pB4Ec0sJCR1a",
        "outputId": "dfcff31c-39fc-4b17-bf96-15ba84989c55"
      },
      "execution_count": 23,
      "outputs": [
        {
          "output_type": "stream",
          "name": "stdout",
          "text": [
            "LINESTRING (330268.8783226154 7393946.569023451, 332173.9807673694 7392306.806849632)\n"
          ]
        }
      ]
    },
    {
      "cell_type": "code",
      "source": [
        "# Visualizar a linha\n",
        "# Show the line\n",
        "\n",
        "linha"
      ],
      "metadata": {
        "colab": {
          "base_uri": "https://localhost:8080/",
          "height": 321
        },
        "id": "X5nqJQKKCNZ7",
        "outputId": "8623227c-428f-4031-e778-92baf1b9a9d4"
      },
      "execution_count": 24,
      "outputs": [
        {
          "output_type": "execute_result",
          "data": {
            "text/plain": [
              "<LINESTRING (330268.878 7393946.569, 332173.981 7392306.807)>"
            ],
            "image/svg+xml": "<svg xmlns=\"http://www.w3.org/2000/svg\" xmlns:xlink=\"http://www.w3.org/1999/xlink\" width=\"300\" height=\"300\" viewBox=\"330192.6742248252 7392230.602751843 2057.510640334338 1792.1703693978488\" preserveAspectRatio=\"xMinYMin meet\"><g transform=\"matrix(1,0,0,-1,0,14786253.375873083)\"><polyline fill=\"none\" stroke=\"#66cc99\" stroke-width=\"13.71673760222892\" points=\"330268.8783226154,7393946.569023451 332173.9807673694,7392306.806849632\" opacity=\"0.8\" /></g></svg>"
          },
          "metadata": {},
          "execution_count": 24
        }
      ]
    },
    {
      "cell_type": "code",
      "source": [
        "# Calcular o comprimento da linha\n",
        "# Calculate the line length\n",
        "\n",
        "linha_comp = linha.length"
      ],
      "metadata": {
        "id": "FVhtotfYCwUe"
      },
      "execution_count": 25,
      "outputs": []
    },
    {
      "cell_type": "code",
      "source": [
        "# Mostrar o valor do comprimento\n",
        "# Show the length value\n",
        "\n",
        "print(\" The length of the line is %s meters\"%(linha_comp))"
      ],
      "metadata": {
        "colab": {
          "base_uri": "https://localhost:8080/"
        },
        "id": "1EXWZY6oDmam",
        "outputId": "a73fee51-2f6b-4c53-f84b-85f570757d24"
      },
      "execution_count": 26,
      "outputs": [
        {
          "output_type": "stream",
          "name": "stdout",
          "text": [
            " The length of the line is 2513.6100158324725 meters\n"
          ]
        }
      ]
    }
  ]
}